{
 "cells": [
  {
   "cell_type": "code",
   "execution_count": 1,
   "metadata": {},
   "outputs": [],
   "source": [
    "from graphviz import Digraph\n",
    "\n",
    "dot = Digraph(comment='Photosynthesis Process', format='png')\n",
    "\n",
    "# Add nodes for Light-Dependent Reactions\n",
    "dot.node('A', 'Sunlight')\n",
    "dot.node('B', 'Chlorophyll')\n",
    "dot.node('C', 'H2O')\n",
    "dot.node('D', 'Electron Transport Chain')\n",
    "dot.node('E', 'ATP/NADPH')\n",
    "\n",
    "# Add edges for Light-Dependent Reactions\n",
    "dot.edges(['AB', 'BC', 'CD', 'DE'])\n",
    "dot.edge('A', 'B', label='Absorbed by chlorophyll')\n",
    "dot.edge('B', 'C', label='Split into O2, H+, e-')\n",
    "dot.edge('C', 'D', label='Electrons move through')\n",
    "dot.edge('D', 'E', label='Generates ATP and NADPH')\n",
    "\n",
    "# Add nodes for Light-Independent Reactions\n",
    "dot.node('F', 'RuBisCO')\n",
    "dot.node('G', 'CO2')\n",
    "dot.node('H', 'C6H12O6 / Organic Compounds')\n",
    "dot.node('I', 'Starch')\n",
    "\n",
    "# Add edges for Light-Independent Reactions\n",
    "dot.edges(['EF', 'FG', 'GH', 'HI'])\n",
    "dot.edge('E', 'F', label='Used by RuBisCO', color='blue')\n",
    "dot.edge('F', 'G', label='Fixes CO2', color='blue')\n",
    "dot.edge('G', 'H', label='Produces Glucose & others', color='blue')\n",
    "dot.edge('H', 'I', label='Stored as Starch', color='blue')"
   ]
  },
  {
   "cell_type": "code",
   "execution_count": 2,
   "metadata": {},
   "outputs": [
    {
     "data": {
      "text/plain": [
       "'photosynthesis.gv.png'"
      ]
     },
     "execution_count": 2,
     "metadata": {},
     "output_type": "execute_result"
    }
   ],
   "source": [
    "dot.render('./photosynthesis.gv', view=False)  "
   ]
  },
  {
   "cell_type": "code",
   "execution_count": null,
   "metadata": {},
   "outputs": [],
   "source": []
  }
 ],
 "metadata": {
  "kernelspec": {
   "display_name": "Python 3",
   "language": "python",
   "name": "python3"
  },
  "language_info": {
   "codemirror_mode": {
    "name": "ipython",
    "version": 3
   },
   "file_extension": ".py",
   "mimetype": "text/x-python",
   "name": "python",
   "nbconvert_exporter": "python",
   "pygments_lexer": "ipython3",
   "version": "3.10.8"
  },
  "orig_nbformat": 4
 },
 "nbformat": 4,
 "nbformat_minor": 2
}
